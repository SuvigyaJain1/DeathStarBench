{
 "cells": [
  {
   "cell_type": "code",
   "execution_count": 8,
   "metadata": {},
   "outputs": [],
   "source": [
    "import pandas as pd\n",
    "import matplotlib.pyplot as plt\n",
    "import numpy as np"
   ]
  },
  {
   "cell_type": "code",
   "execution_count": 9,
   "metadata": {},
   "outputs": [],
   "source": [
    "woistio=pd.read_csv(r'outputs_without_istio.csv')"
   ]
  },
  {
   "cell_type": "code",
   "execution_count": 10,
   "metadata": {},
   "outputs": [
    {
     "data": {
      "text/html": [
       "<div>\n",
       "<style scoped>\n",
       "    .dataframe tbody tr th:only-of-type {\n",
       "        vertical-align: middle;\n",
       "    }\n",
       "\n",
       "    .dataframe tbody tr th {\n",
       "        vertical-align: top;\n",
       "    }\n",
       "\n",
       "    .dataframe thead th {\n",
       "        text-align: right;\n",
       "    }\n",
       "</style>\n",
       "<table border=\"1\" class=\"dataframe\">\n",
       "  <thead>\n",
       "    <tr style=\"text-align: right;\">\n",
       "      <th></th>\n",
       "      <th>rps</th>\n",
       "      <th>idx</th>\n",
       "      <th>mean</th>\n",
       "    </tr>\n",
       "  </thead>\n",
       "  <tbody>\n",
       "    <tr>\n",
       "      <th>0</th>\n",
       "      <td>rps_50</td>\n",
       "      <td>0</td>\n",
       "      <td>30.302</td>\n",
       "    </tr>\n",
       "    <tr>\n",
       "      <th>1</th>\n",
       "      <td>rps_50</td>\n",
       "      <td>1</td>\n",
       "      <td>25.589</td>\n",
       "    </tr>\n",
       "    <tr>\n",
       "      <th>2</th>\n",
       "      <td>rps_50</td>\n",
       "      <td>3</td>\n",
       "      <td>34.495</td>\n",
       "    </tr>\n",
       "    <tr>\n",
       "      <th>3</th>\n",
       "      <td>rps_50</td>\n",
       "      <td>2</td>\n",
       "      <td>27.340</td>\n",
       "    </tr>\n",
       "    <tr>\n",
       "      <th>4</th>\n",
       "      <td>rps_50</td>\n",
       "      <td>4</td>\n",
       "      <td>40.379</td>\n",
       "    </tr>\n",
       "  </tbody>\n",
       "</table>\n",
       "</div>"
      ],
      "text/plain": [
       "      rps  idx    mean\n",
       "0  rps_50    0  30.302\n",
       "1  rps_50    1  25.589\n",
       "2  rps_50    3  34.495\n",
       "3  rps_50    2  27.340\n",
       "4  rps_50    4  40.379"
      ]
     },
     "execution_count": 10,
     "metadata": {},
     "output_type": "execute_result"
    }
   ],
   "source": [
    "woistio.head()"
   ]
  },
  {
   "cell_type": "code",
   "execution_count": 18,
   "metadata": {},
   "outputs": [],
   "source": [
    "df50=woistio.loc[woistio['rps'] == 'rps_50']\n",
    "rps50_mean=df50['mean'].mean()"
   ]
  },
  {
   "cell_type": "code",
   "execution_count": 19,
   "metadata": {},
   "outputs": [
    {
     "name": "stdout",
     "output_type": "stream",
     "text": [
      "31.621\n",
      "31.621\n"
     ]
    }
   ],
   "source": [
    "print(rps50_mean)\n",
    "print(wrps50_mean)"
   ]
  },
  {
   "cell_type": "code",
   "execution_count": 12,
   "metadata": {},
   "outputs": [],
   "source": [
    "df20=woistio.loc[woistio['rps'] == 'rps_20']\n",
    "rps20_mean=df20['mean'].mean()\n",
    "\n",
    "df50=woistio.loc[woistio['rps'] == 'rps_50']\n",
    "rps50_mean=df50['mean'].mean()\n",
    "\n",
    "df100=woistio.loc[woistio['rps'] == 'rps_100']\n",
    "rps100_mean=df100['mean'].mean()\n",
    "\n",
    "df200=woistio.loc[woistio['rps'] == 'rps_200']\n",
    "rps200_mean=df200['mean'].mean()\n",
    "\n",
    "df500=woistio.loc[woistio['rps'] == 'rps_500']\n",
    "rps500_mean=df500['mean'].mean()\n",
    "\n",
    "df1000=woistio.loc[woistio['rps'] == 'rps_1000']\n",
    "rps1000_mean=df1000['mean'].mean()"
   ]
  },
  {
   "cell_type": "code",
   "execution_count": 20,
   "metadata": {},
   "outputs": [],
   "source": [
    "istio=pd.read_csv(r'outputs_with_istio.csv')"
   ]
  },
  {
   "cell_type": "code",
   "execution_count": 21,
   "metadata": {},
   "outputs": [
    {
     "data": {
      "text/html": [
       "<div>\n",
       "<style scoped>\n",
       "    .dataframe tbody tr th:only-of-type {\n",
       "        vertical-align: middle;\n",
       "    }\n",
       "\n",
       "    .dataframe tbody tr th {\n",
       "        vertical-align: top;\n",
       "    }\n",
       "\n",
       "    .dataframe thead th {\n",
       "        text-align: right;\n",
       "    }\n",
       "</style>\n",
       "<table border=\"1\" class=\"dataframe\">\n",
       "  <thead>\n",
       "    <tr style=\"text-align: right;\">\n",
       "      <th></th>\n",
       "      <th>rps</th>\n",
       "      <th>idx</th>\n",
       "      <th>mean</th>\n",
       "    </tr>\n",
       "  </thead>\n",
       "  <tbody>\n",
       "    <tr>\n",
       "      <th>0</th>\n",
       "      <td>rps_50</td>\n",
       "      <td>0</td>\n",
       "      <td>69.698</td>\n",
       "    </tr>\n",
       "    <tr>\n",
       "      <th>1</th>\n",
       "      <td>rps_50</td>\n",
       "      <td>1</td>\n",
       "      <td>62.250</td>\n",
       "    </tr>\n",
       "    <tr>\n",
       "      <th>2</th>\n",
       "      <td>rps_50</td>\n",
       "      <td>3</td>\n",
       "      <td>75.846</td>\n",
       "    </tr>\n",
       "    <tr>\n",
       "      <th>3</th>\n",
       "      <td>rps_50</td>\n",
       "      <td>2</td>\n",
       "      <td>40.684</td>\n",
       "    </tr>\n",
       "    <tr>\n",
       "      <th>4</th>\n",
       "      <td>rps_50</td>\n",
       "      <td>4</td>\n",
       "      <td>46.461</td>\n",
       "    </tr>\n",
       "  </tbody>\n",
       "</table>\n",
       "</div>"
      ],
      "text/plain": [
       "      rps  idx    mean\n",
       "0  rps_50    0  69.698\n",
       "1  rps_50    1  62.250\n",
       "2  rps_50    3  75.846\n",
       "3  rps_50    2  40.684\n",
       "4  rps_50    4  46.461"
      ]
     },
     "execution_count": 21,
     "metadata": {},
     "output_type": "execute_result"
    }
   ],
   "source": [
    "istio.head()"
   ]
  },
  {
   "cell_type": "code",
   "execution_count": 22,
   "metadata": {},
   "outputs": [],
   "source": [
    "df20=istio.loc[istio['rps'] == 'rps_20']\n",
    "wrps20_mean=df20['mean'].mean()\n",
    "\n",
    "df50=istio.loc[istio['rps'] == 'rps_50']\n",
    "wrps50_mean=df50['mean'].mean()\n",
    "\n",
    "df100=istio.loc[istio['rps'] == 'rps_100']\n",
    "wrps100_mean=df100['mean'].mean()\n",
    "\n",
    "df200=istio.loc[istio['rps'] == 'rps_200']\n",
    "wrps200_mean=df200['mean'].mean()\n",
    "\n",
    "df500=istio.loc[istio['rps'] == 'rps_500']\n",
    "wrps500_mean=df500['mean'].mean()\n",
    "\n",
    "df1000=istio.loc[istio['rps'] == 'rps_1000']\n",
    "wrps1000_mean=df1000['mean'].mean()"
   ]
  },
  {
   "cell_type": "code",
   "execution_count": 23,
   "metadata": {},
   "outputs": [
    {
     "data": {
      "text/plain": [
       "<matplotlib.legend.Legend at 0x2855680a2e0>"
      ]
     },
     "execution_count": 23,
     "metadata": {},
     "output_type": "execute_result"
    },
    {
     "data": {
      "image/png": "[encoded data removed]",
      "text/plain": [
       "<Figure size 432x288 with 1 Axes>"
      ]
     },
     "metadata": {
      "needs_background": "light"
     },
     "output_type": "display_data"
    }
   ],
   "source": [
    "without_istio=[rps20_mean,rps50_mean,rps100_mean,rps200_mean,rps500_mean,rps1000_mean]\n",
    "with_istio=[wrps20_mean,wrps50_mean,wrps100_mean,wrps200_mean,wrps500_mean,wrps1000_mean]\n",
    "x=np.arange(1,7)\n",
    "plt.xticks(x,['20','50','100','200','500','1000'])\n",
    "width = 0.40\n",
    "plt.bar(x-0.2,without_istio,width=width,label=\"Without Istio\")\n",
    "plt.bar(x+0.2,with_istio,width=width,label=\"With Istio\")\n",
    "plt.legend(['Without Istio','With Istio'])"
   ]
  },
  {
   "cell_type": "code",
   "execution_count": 24,
   "metadata": {},
   "outputs": [
    {
     "data": {
      "text/plain": [
       "<matplotlib.legend.Legend at 0x285568c1f70>"
      ]
     },
     "execution_count": 24,
     "metadata": {},
     "output_type": "execute_result"
    },
    {
     "data": {
      "image/png": "[encoded data removed]",
      "text/plain": [
       "<Figure size 432x288 with 1 Axes>"
      ]
     },
     "metadata": {
      "needs_background": "light"
     },
     "output_type": "display_data"
    }
   ],
   "source": [
    "without_istio=[rps20_mean,rps50_mean,rps100_mean,rps200_mean,rps500_mean]\n",
    "with_istio=[wrps20_mean,wrps50_mean,wrps100_mean,wrps200_mean,wrps500_mean]\n",
    "x=np.arange(1,6)\n",
    "plt.xticks(x,['20','50','100','200','500'])\n",
    "width = 0.40\n",
    "plt.bar(x-0.2,without_istio,width=width,label=\"Without Istio\")\n",
    "plt.bar(x+0.2,with_istio,width=width,label=\"With Istio\")\n",
    "plt.legend(['Without Istio','With Istio'])"
   ]
  },
  {
   "cell_type": "code",
   "execution_count": 25,
   "metadata": {},
   "outputs": [
    {
     "data": {
      "text/html": [
       "<div>\n",
       "<style scoped>\n",
       "    .dataframe tbody tr th:only-of-type {\n",
       "        vertical-align: middle;\n",
       "    }\n",
       "\n",
       "    .dataframe tbody tr th {\n",
       "        vertical-align: top;\n",
       "    }\n",
       "\n",
       "    .dataframe thead th {\n",
       "        text-align: right;\n",
       "    }\n",
       "</style>\n",
       "<table border=\"1\" class=\"dataframe\">\n",
       "  <thead>\n",
       "    <tr style=\"text-align: right;\">\n",
       "      <th></th>\n",
       "      <th>rps</th>\n",
       "      <th>idx</th>\n",
       "      <th>mean</th>\n",
       "    </tr>\n",
       "  </thead>\n",
       "  <tbody>\n",
       "    <tr>\n",
       "      <th>10</th>\n",
       "      <td>rps_1000</td>\n",
       "      <td>0</td>\n",
       "      <td>190.459</td>\n",
       "    </tr>\n",
       "    <tr>\n",
       "      <th>11</th>\n",
       "      <td>rps_1000</td>\n",
       "      <td>1</td>\n",
       "      <td>289.418</td>\n",
       "    </tr>\n",
       "    <tr>\n",
       "      <th>12</th>\n",
       "      <td>rps_1000</td>\n",
       "      <td>3</td>\n",
       "      <td>212.202</td>\n",
       "    </tr>\n",
       "    <tr>\n",
       "      <th>13</th>\n",
       "      <td>rps_1000</td>\n",
       "      <td>2</td>\n",
       "      <td>198.453</td>\n",
       "    </tr>\n",
       "    <tr>\n",
       "      <th>14</th>\n",
       "      <td>rps_1000</td>\n",
       "      <td>4</td>\n",
       "      <td>231.026</td>\n",
       "    </tr>\n",
       "  </tbody>\n",
       "</table>\n",
       "</div>"
      ],
      "text/plain": [
       "         rps  idx     mean\n",
       "10  rps_1000    0  190.459\n",
       "11  rps_1000    1  289.418\n",
       "12  rps_1000    3  212.202\n",
       "13  rps_1000    2  198.453\n",
       "14  rps_1000    4  231.026"
      ]
     },
     "execution_count": 25,
     "metadata": {},
     "output_type": "execute_result"
    }
   ],
   "source": [
    "df1000=woistio.loc[woistio['rps'] == 'rps_1000']\n",
    "df1000"
   ]
  },
  {
   "cell_type": "code",
   "execution_count": 26,
   "metadata": {},
   "outputs": [
    {
     "data": {
      "text/html": [
       "<div>\n",
       "<style scoped>\n",
       "    .dataframe tbody tr th:only-of-type {\n",
       "        vertical-align: middle;\n",
       "    }\n",
       "\n",
       "    .dataframe tbody tr th {\n",
       "        vertical-align: top;\n",
       "    }\n",
       "\n",
       "    .dataframe thead th {\n",
       "        text-align: right;\n",
       "    }\n",
       "</style>\n",
       "<table border=\"1\" class=\"dataframe\">\n",
       "  <thead>\n",
       "    <tr style=\"text-align: right;\">\n",
       "      <th></th>\n",
       "      <th>rps</th>\n",
       "      <th>idx</th>\n",
       "      <th>mean</th>\n",
       "    </tr>\n",
       "  </thead>\n",
       "  <tbody>\n",
       "    <tr>\n",
       "      <th>10</th>\n",
       "      <td>rps_1000</td>\n",
       "      <td>0</td>\n",
       "      <td>6989.017</td>\n",
       "    </tr>\n",
       "    <tr>\n",
       "      <th>11</th>\n",
       "      <td>rps_1000</td>\n",
       "      <td>1</td>\n",
       "      <td>7071.376</td>\n",
       "    </tr>\n",
       "    <tr>\n",
       "      <th>12</th>\n",
       "      <td>rps_1000</td>\n",
       "      <td>3</td>\n",
       "      <td>8553.707</td>\n",
       "    </tr>\n",
       "    <tr>\n",
       "      <th>13</th>\n",
       "      <td>rps_1000</td>\n",
       "      <td>2</td>\n",
       "      <td>10035.808</td>\n",
       "    </tr>\n",
       "    <tr>\n",
       "      <th>14</th>\n",
       "      <td>rps_1000</td>\n",
       "      <td>4</td>\n",
       "      <td>7254.841</td>\n",
       "    </tr>\n",
       "  </tbody>\n",
       "</table>\n",
       "</div>"
      ],
      "text/plain": [
       "         rps  idx       mean\n",
       "10  rps_1000    0   6989.017\n",
       "11  rps_1000    1   7071.376\n",
       "12  rps_1000    3   8553.707\n",
       "13  rps_1000    2  10035.808\n",
       "14  rps_1000    4   7254.841"
      ]
     },
     "execution_count": 26,
     "metadata": {},
     "output_type": "execute_result"
    }
   ],
   "source": [
    "df1000=istio.loc[istio['rps'] == 'rps_1000']\n",
    "df1000"
   ]
  },
  {
   "cell_type": "code",
   "execution_count": null,
   "metadata": {},
   "outputs": [],
   "source": []
  }
 ],
 "metadata": {
  "kernelspec": {
   "display_name": "Python 3",
   "language": "python",
   "name": "python3"
  },
  "language_info": {
   "codemirror_mode": {
    "name": "ipython",
    "version": 3
   },
   "file_extension": ".py",
   "mimetype": "text/x-python",
   "name": "python",
   "nbconvert_exporter": "python",
   "pygments_lexer": "ipython3",
   "version": "3.8.5"
  }
 },
 "nbformat": 4,
 "nbformat_minor": 4
}
