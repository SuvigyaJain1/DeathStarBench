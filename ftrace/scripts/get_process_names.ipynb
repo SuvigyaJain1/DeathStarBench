{
 "cells": [
  {
   "cell_type": "code",
   "execution_count": 1,
   "metadata": {},
   "outputs": [],
   "source": [
    "import json\n",
    "import pickle\n",
    "import os\n",
    "\n",
    "import matplotlib.pyplot as plt\n",
    "import numpy as np\n",
    "import pandas as pd"
   ]
  },
  {
   "cell_type": "code",
   "execution_count": 5,
   "metadata": {},
   "outputs": [],
   "source": [
    "# GLOBAL VARIABLES / PARAMETERS\n",
    "WORKLOAD = \"WITH_ISTIO_WITH_WORKLOAD\"\n",
    "TRACE_LOGS = f\"{WORKLOAD}/\"\n",
    "PARSED_OUTPUTS = f\"parsedOutputs/{WORKLOAD}\"\n",
    "NUM_RUNS = 5\n",
    "FUNC_BLACKLIST = {\"BLANK\", \"do_syscall_64()\",\"schedule()\"}\n",
    "COLOR_LIST=['#e6194b', '#3cb44b', '#ffe119', '#4363d8', '#f58231', '#911eb4', '#46f0f0', '#f032e6', '#bcf60c', '#fabebe', '#008080', '#e6beff', '#9a6324', '#fffac8', '#800000', '#aaffc3', '#808000', '#ffd8b1', '#000075', '#808080', '#ffffff','']"
   ]
  },
  {
   "cell_type": "code",
   "execution_count": 36,
   "metadata": {},
   "outputs": [
    {
     "data": {
      "text/plain": [
       "22"
      ]
     },
     "execution_count": 36,
     "metadata": {},
     "output_type": "execute_result"
    }
   ],
   "source": [
    "len(COLOR_LIST)"
   ]
  },
  {
   "cell_type": "code",
   "execution_count": 3,
   "metadata": {},
   "outputs": [],
   "source": [
    "\n",
    "def get_runs():\n",
    "    runs = []\n",
    "    for i in range(NUM_RUNS):\n",
    "        with open(os.path.join(PARSED_OUTPUTS, f'{i}.json'), \"r\") as fd:\n",
    "            data = json.load(fd)\n",
    "            runs.append(data)\n",
    "    return runs\n"
   ]
  },
  {
   "cell_type": "code",
   "execution_count": 6,
   "metadata": {},
   "outputs": [],
   "source": [
    "runs=get_runs()"
   ]
  },
  {
   "cell_type": "code",
   "execution_count": 37,
   "metadata": {},
   "outputs": [],
   "source": [
    "processes1=set()\n"
   ]
  },
  {
   "cell_type": "code",
   "execution_count": 38,
   "metadata": {},
   "outputs": [
    {
     "name": "stdout",
     "output_type": "stream",
     "text": [
      "388\n"
     ]
    }
   ],
   "source": [
    "for i in range(NUM_RUNS):\n",
    "    pids=get_pid_mapping(f'{WORKLOAD}/{i}.saved_cmdlines')\n",
    "    for pid in runs[i].keys():\n",
    "        if pid in pids:\n",
    "            processes1.add(pids[pid])\n",
    "            if(pids[pid]=='jbd2/vda1-8'):\n",
    "                print(pid)\n"
   ]
  },
  {
   "cell_type": "code",
   "execution_count": 24,
   "metadata": {},
   "outputs": [
    {
     "name": "stdout",
     "output_type": "stream",
     "text": [
      "{'sshd', 'containerd', 'kube-controller', 'HomeTimelineSer', 'UserMentionServ', 'envoy', 'ksoftirqd/3', 'UserTimelineSer', 'pilot-agent', 'AccessLogFlush', 'calico-node', 'MediaService', 'ksoftirqd/7', 'apiserver', 'calico-typha', 'dog:main_thread', 'PostStorageServ', 'kworker/1:2', 'wrk:worker_1', 'jbd2/vda1-8', 'rcu_sched', 'ComposePostServ', 'wrk:worker_5', 'kube-apiserver', 'kworker/6:0', 'kubelet', 'mongod', 'UniqueIdService', 'openresty', 'kworker/5:1H', 'SocialGraphServ', 'Backgro.kSource', 'etcd', 'ksoftirqd/4', 'wrk:worker_0', 'ksoftirqd/6', 'ksoftirqd/1', 'kworker/3:1H', 'dog:workers_gua', 'ksoftirqd/5', 'TextService', 'redis-server', 'runc', 'kworker/0:0', 'containerd-shim', 'wrk', 'UrlShortenServi', 'UserService', 'kworker/u16:0', 'kworker/3:3', 'conn12', 'node', 'ksoftirqd/2', 'ksoftirqd/0', 'kworker/2:5', 'memcached'}\n"
     ]
    }
   ],
   "source": [
    "processes2=set()\n",
    "pids=get_pid_mapping(f'{WORKLOAD}/3.saved_cmdlines')\n",
    "for pid in runs[3].keys():\n",
    "    if pid in pids:\n",
    "        processes2.add(pids[pid])\n",
    "print(processes)"
   ]
  },
  {
   "cell_type": "code",
   "execution_count": 25,
   "metadata": {},
   "outputs": [
    {
     "data": {
      "text/plain": [
       "set()"
      ]
     },
     "execution_count": 25,
     "metadata": {},
     "output_type": "execute_result"
    }
   ],
   "source": [
    "processes2-processes1"
   ]
  },
  {
   "cell_type": "code",
   "execution_count": 4,
   "metadata": {},
   "outputs": [],
   "source": [
    "def get_pid_mapping(file):\n",
    "    pid_mapping={}\n",
    "    with open(file,'r') as f:\n",
    "        for line in f.readlines():\n",
    "            \n",
    "            pid,*name= line.split()\n",
    "            if(type(name)==list):\n",
    "                name=' '.join(name)\n",
    "            pid_mapping[pid]=name\n",
    "            \n",
    "    return pid_mapping"
   ]
  },
  {
   "cell_type": "code",
   "execution_count": 43,
   "metadata": {},
   "outputs": [],
   "source": [
    "PROCESSES=['containerd', 'kube-controller', 'HomeTimelineSer', 'UserMentionServ', 'envoy', 'UserTimelineSer', 'pilot-agent','calico-node', 'MediaService',  'apiserver', 'calico-typha','PostStorageServ','ComposePostServ','kube-apiserver', 'kubelet', 'mongod', 'UniqueIdService', 'openresty', 'SocialGraphServ', 'etcd', 'TextService', 'redis-server',  'UrlShortenServi', 'UserService','node', 'memcached']"
   ]
  },
  {
   "cell_type": "code",
   "execution_count": 45,
   "metadata": {},
   "outputs": [
    {
     "name": "stdout",
     "output_type": "stream",
     "text": [
      "27\n"
     ]
    }
   ],
   "source": [
    "print(len(PROCESSES))"
   ]
  },
  {
   "cell_type": "code",
   "execution_count": null,
   "metadata": {},
   "outputs": [],
   "source": [
    "COLORS=['#201923','#ffffff',\n",
    "'#fcff5d','#7dfc00','#0ec434','#228c68','#8ad8e8',\n",
    "'#235b54','#29bdab','#3998f5','#37294f',\n",
    "'#277da7','#3750db','#f22020','#991919',\n",
    "'#ffcba5','#e68f66','#c56133','#96341c',\n",
    "'#632819','#ffc413','#f47a22','#2f2aa0',\n",
    "'#b732cc','#772b9d','#f07cab','#d30b94',\n",
    "'#edeff3','#c3a5b4','#946aa2','#5d4c86']"
   ]
  }
 ],
 "metadata": {
  "kernelspec": {
   "display_name": "Python 3.10.8 64-bit",
   "language": "python",
   "name": "python3"
  },
  "language_info": {
   "codemirror_mode": {
    "name": "ipython",
    "version": 3
   },
   "file_extension": ".py",
   "mimetype": "text/x-python",
   "name": "python",
   "nbconvert_exporter": "python",
   "pygments_lexer": "ipython3",
   "version": "3.10.8"
  },
  "orig_nbformat": 4,
  "vscode": {
   "interpreter": {
    "hash": "e7370f93d1d0cde622a1f8e1c04877d8463912d04d973331ad4851f04de6915a"
   }
  }
 },
 "nbformat": 4,
 "nbformat_minor": 2
}
