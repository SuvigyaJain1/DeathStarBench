{
 "cells": [
  {
   "cell_type": "code",
   "execution_count": 1,
   "metadata": {},
   "outputs": [],
   "source": [
    "import json\n",
    "import pickle\n",
    "import os\n",
    "\n",
    "import matplotlib.pyplot as plt\n",
    "import numpy as np\n",
    "import pandas as pd"
   ]
  },
  {
   "cell_type": "code",
   "execution_count": 13,
   "metadata": {},
   "outputs": [
    {
     "ename": "FileNotFoundError",
     "evalue": "[Errno 2] No such file or directory: 'ftrace\\\\scripts\\\\WITH_ISTIO_WITH_WORKLOAD\\x01.txt.pid.pickle'",
     "output_type": "error",
     "traceback": [
      "\u001b[1;31m---------------------------------------------------------------------------\u001b[0m",
      "\u001b[1;31mFileNotFoundError\u001b[0m                         Traceback (most recent call last)",
      "\u001b[1;32mc:\\Users\\smruthi\\Desktop\\DeathStarBench\\ftrace\\scripts\\pid_analysis.ipynb Cell 2\u001b[0m in \u001b[0;36m<module>\u001b[1;34m\u001b[0m\n\u001b[1;32m----> <a href='vscode-notebook-cell:/c%3A/Users/smruthi/Desktop/DeathStarBench/ftrace/scripts/pid_analysis.ipynb#X11sZmlsZQ%3D%3D?line=0'>1</a>\u001b[0m \u001b[39mwith\u001b[39;00m \u001b[39mopen\u001b[39;49m(\u001b[39m'\u001b[39;49m\u001b[39mftrace\u001b[39;49m\u001b[39m\\\u001b[39;49m\u001b[39mscripts\u001b[39;49m\u001b[39m\\\u001b[39;49m\u001b[39mWITH_ISTIO_WITH_WORKLOAD\u001b[39;49m\u001b[39m\\1\u001b[39;49;00m\u001b[39m.txt.pid.pickle\u001b[39;49m\u001b[39m'\u001b[39;49m,\u001b[39m'\u001b[39;49m\u001b[39mrb\u001b[39;49m\u001b[39m'\u001b[39;49m) \u001b[39mas\u001b[39;00m f:\n\u001b[0;32m      <a href='vscode-notebook-cell:/c%3A/Users/smruthi/Desktop/DeathStarBench/ftrace/scripts/pid_analysis.ipynb#X11sZmlsZQ%3D%3D?line=1'>2</a>\u001b[0m     x \u001b[39m=\u001b[39m pickle\u001b[39m.\u001b[39mload(f)\n",
      "\u001b[1;31mFileNotFoundError\u001b[0m: [Errno 2] No such file or directory: 'ftrace\\\\scripts\\\\WITH_ISTIO_WITH_WORKLOAD\\x01.txt.pid.pickle'"
     ]
    }
   ],
   "source": [
    "with open('ftrace\\scripts\\WITH_ISTIO_WITH_WORKLOAD\\1.txt.pid.pickle','rb') as f:\n",
    "    x = pickle.load(f)"
   ]
  },
  {
   "cell_type": "code",
   "execution_count": 2,
   "metadata": {},
   "outputs": [],
   "source": [
    "# GLOBAL VARIABLES / PARAMETERS\n",
    "WORKLOAD = \"WITHOUT_ISTIO_WITHOUT_WORKLOAD\"\n",
    "TRACE_LOGS = f\"{WORKLOAD}/\"\n",
    "PARSED_OUTPUTS = f\"parsedOutputs/{WORKLOAD}\"\n",
    "NUM_RUNS = 3\n",
    "FUNC_BLACKLIST = {\"BLANK\", \"do_syscall_64()\"}"
   ]
  },
  {
   "cell_type": "code",
   "execution_count": 6,
   "metadata": {},
   "outputs": [],
   "source": [
    "def get_runs():\n",
    "    runs = []\n",
    "    for run_data in os.listdir(PARSED_OUTPUTS):\n",
    "        with open(os.path.join(PARSED_OUTPUTS, run_data), \"r\") as fd:\n",
    "            data = json.load(fd)\n",
    "            runs.append(data)\n",
    "    return runs\n",
    "\n",
    "runs = get_runs()"
   ]
  },
  {
   "cell_type": "code",
   "execution_count": 4,
   "metadata": {},
   "outputs": [],
   "source": [
    "def get_latency(run, blacklist=FUNC_BLACKLIST):\n",
    "    latency = {}\n",
    "    print(blacklist)\n",
    "    \n",
    "    def update_latency(data):\n",
    "        \n",
    "        for call in data:\n",
    "            function_name = call['function_name']\n",
    "            if function_name not in blacklist:              \n",
    "                latency[function_name] = latency.get(function_name, 0) + call['time']\n",
    "                \n",
    "                for child in call['children']:\n",
    "                    latency[function_name] -= child['time']\n",
    "\n",
    "            update_latency(call['children'])\n",
    "    \n",
    "    for data in run.values():\n",
    "        update_latency(data)\n",
    "\n",
    "    return latency"
   ]
  },
  {
   "cell_type": "code",
   "execution_count": 8,
   "metadata": {},
   "outputs": [
    {
     "name": "stdout",
     "output_type": "stream",
     "text": [
      "{'924328': 5089379.733999999, '924356': 1.603, '1616767': 3.737, '54442': 4.137, '3066833': 5019696.016, '3068903': 5516952.423000001, '1561378': 5382093.303000001, '31': 3.968, '3070430': 5819792.061999996, '3069873': 15009604.260000002, '54419': 5.27, '927039': 0.21, '925398': 1.733, '924354': 1.233, '1478': 1.844, '3067873': 11010930.626, '3069253': 10009297.477000002, '1001793': 2.304, '1654183': 3.476, '3068278': 9008751.718, '43': 2.375, '1989488': 3.046, '1664729': 2.274, '1446': 2.905, '1989511': 2.896, '2728': 35021162.23799999}\n"
     ]
    }
   ],
   "source": [
    "r = runs[0]\n",
    "pid_to_time = {}\n",
    "for k,v in r.items():\n",
    "    pid_to_time[k] = 0\n",
    "    for call in v:\n",
    "        pid_to_time[k] += call[\"time\"]\n",
    "print(pid_to_time)\n",
    "\n"
   ]
  }
 ],
 "metadata": {
  "kernelspec": {
   "display_name": "Python 3.10.1 64-bit",
   "language": "python",
   "name": "python3"
  },
  "language_info": {
   "codemirror_mode": {
    "name": "ipython",
    "version": 3
   },
   "file_extension": ".py",
   "mimetype": "text/x-python",
   "name": "python",
   "nbconvert_exporter": "python",
   "pygments_lexer": "ipython3",
   "version": "3.10.1"
  },
  "orig_nbformat": 4,
  "vscode": {
   "interpreter": {
    "hash": "369f2c481f4da34e4445cda3fffd2e751bd1c4d706f27375911949ba6bb62e1c"
   }
  }
 },
 "nbformat": 4,
 "nbformat_minor": 2
}
